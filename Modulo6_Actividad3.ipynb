{
 "cells": [
  {
   "cell_type": "markdown",
   "metadata": {},
   "source": [
    "# Módulo 6 Actvidad 3\n",
    "\n",
    "## Intención del aprendizaje esperado:\n",
    "\n",
    "**3. Elaborar un modelo predictivo aplicando técnicas de Agrupamiento Jerárquico utilizando lenguaje Python para resolver un problema de clusterización**\n",
    "\n",
    "## Ejercicios Planteados\n",
    "\n",
    "\n",
    "**Para esta sección, siga los pasos para crear la clasificación:**\n",
    "\n",
    "\n",
    "**1. Para un grupo de datos simulados, use la siguiente función:**\n"
   ]
  },
  {
   "cell_type": "code",
   "execution_count": null,
   "metadata": {},
   "outputs": [],
   "source": [
    "import numpy as np\n",
    "import pandas as pd\n",
    "import matplotlib.pyplot as plt\n",
    "import seaborn as sns\n",
    "from sklearn.cluster import AgglomerativeClustering\n",
    "from sklearn.datasets import make_blobs\n",
    "from scipy.cluster.hierarchy import dendrogram, linkage, inconsistent\n",
    "from scipy.spatial.distance import cdist\n",
    "from scipy.cluster import hierarchy\n",
    "\n",
    "import warnings\n",
    "warnings.filterwarnings(\"ignore\")\n"
   ]
  },
  {
   "cell_type": "code",
   "execution_count": null,
   "metadata": {},
   "outputs": [],
   "source": [
    "def plot_dendrogram(model, **kwargs):\n",
    "\n",
    "    counts = np.zeros(model.children_.shape[0])\n",
    "    n_samples = len(model.labels_)\n",
    "    for i, merge in enumerate(model.children_):\n",
    "        current_count = 0\n",
    "        for child_idx in merge:\n",
    "            if child_idx < n_samples:\n",
    "                current_count += 1 # leaf node\n",
    "            else:\n",
    "                current_count += counts[child_idx - n_samples]\n",
    "        counts[i] = current_count\n",
    "    linkage_matrix = np.column_stack([model.children_, model.distances_, counts]).astype(float)\n",
    "    # Plot\n",
    "    dendrogram(linkage_matrix, **kwargs)\n"
   ]
  },
  {
   "cell_type": "markdown",
   "metadata": {},
   "source": [
    "**2. Para la siguiente clasificación construya un dendrograma, con distintas métricas.**"
   ]
  },
  {
   "cell_type": "code",
   "execution_count": null,
   "metadata": {},
   "outputs": [],
   "source": [
    "X, y = make_blobs(n_samples=100, centers=3, n_features=2, random_state=0)\n",
    "\n",
    "model = AgglomerativeClustering(distance_threshold=0, n_clusters=None)\n",
    "model = model.fit(X)\n",
    "\n",
    "\n",
    "df = pd.DataFrame(X, columns=['x', 'y'])\n",
    "df['Cluster'] = y\n",
    "\n",
    "colores_scatter = ['Red', 'Orange', 'Green']\n",
    "\n",
    "fig, axes = plt.subplots(1, 2, figsize=(14, 4))\n",
    "\n",
    "sns.scatterplot(ax=axes[0], data=df, x='x', y='y', hue='Cluster', palette=colores_scatter)\n",
    "axes[0].set_title('Scatter Plot de Datos Generados')\n",
    "axes[0].set_xlabel('x')\n",
    "axes[0].set_ylabel('y')\n",
    "\n",
    "plt.title('Dendrograma de Clasificación Jerárquica')\n",
    "plot_dendrogram(model, truncate_mode='level', p=3)\n",
    "plt.xlabel(\"Número de puntos en el nodo (o índice de la muestra si no hay paréntesis)\")\n",
    "\n",
    "\n",
    "plt.show()\n",
    "\n"
   ]
  },
  {
   "cell_type": "code",
   "execution_count": null,
   "metadata": {},
   "outputs": [],
   "source": [
    "Z = linkage(X, method='complete', metric='euclidean')\n",
    "\n",
    "Z_1 = linkage(X, method='single', metric='cosine')\n",
    "\n",
    "Z_2 = linkage(X, method='average', metric='euclidean')\n",
    "\n",
    "Z_3 = linkage(X, method='centroid', metric='euclidean')\n",
    "\n",
    "plt.figure(figsize=(25, 5))\n",
    "\n",
    "# Primer dendrograma\n",
    "plt.subplot(1, 4, 1)\n",
    "dendrogram(Z, truncate_mode='level', p=3)\n",
    "plt.title('Método: \"complete\"; Métrica: \"euclidean\"')\n",
    "\n",
    "# Segundo dendrograma\n",
    "plt.subplot(1, 4, 2)\n",
    "dendrogram(Z_1, truncate_mode='level', p=3)\n",
    "plt.title('Método: \"single\"; Métrica: \"cosine\"')\n",
    "\n",
    "# Tercer dendrograma\n",
    "plt.subplot(1, 4, 3)\n",
    "dendrogram(Z_2, truncate_mode='level', p=3)\n",
    "plt.title('Método: \"average\"; Métrica: \"euclidean\"')\n",
    "\n",
    "# Cuarto dendrograma\n",
    "plt.subplot(1, 4, 4)\n",
    "dendrogram(Z_3, truncate_mode='level', p=3)\n",
    "plt.title('Método: \"centroid\"; Métrica: \"euclidean\"')\n",
    "\n",
    "plt.show()"
   ]
  },
  {
   "cell_type": "markdown",
   "metadata": {},
   "source": [
    "**3. Establezca el k adecuado para estos datos.**\n",
    "\n",
    "**4. Tome la decisión por medio de “índices silhouette”**\n"
   ]
  },
  {
   "cell_type": "markdown",
   "metadata": {},
   "source": [
    "El agrupamiento jerárquico es un método que permite realizar un dendograma o diagrama de relación entre los distintos elementos de un conjunto de datos.  Por otra parte en consideración de la naturaleza aleatoria de los datos, el número de clúster puede responder más bien a una razón estética y de comprensión del gráfico más que la utilidad para el análisis."
   ]
  },
  {
   "cell_type": "code",
   "execution_count": null,
   "metadata": {},
   "outputs": [],
   "source": [
    "from scipy.cluster.hierarchy import dendrogram, linkage\n",
    "from sklearn.metrics import silhouette_score\n",
    "\n",
    "\n",
    "Z = linkage(X, method='ward')\n",
    "\n",
    "cantidad_cluster = []\n",
    "silhouette_valores = []\n",
    "\n",
    "for i in range(2, 51):\n",
    "    cluster_labels = AgglomerativeClustering(n_clusters=i).fit_predict(X)\n",
    "\n",
    "    silhouette_avg = silhouette_score(X, cluster_labels)\n",
    "\n",
    "    cantidad_cluster.append(i)\n",
    "    silhouette_valores.append(silhouette_avg)\n",
    "    print(f'{i} CLUSTER '.ljust(15, '.') + f' {silhouette_avg:.4f}'.rjust(10, '.'))\n",
    "\n",
    "maximo = max(silhouette_valores)\n",
    "indice_max = silhouette_valores.index(maximo)\n",
    "\n",
    "num_clusters = 5\n",
    "\n",
    "dendrogram(Z, truncate_mode='lastp', p=num_clusters)\n",
    "plt.title('Dendograma Prueba.  5 Cluster')\n",
    "plt.xlabel('Cantidad elementos por Cluster')\n",
    "plt.show()\n",
    "\n",
    "\n",
    "plt.plot(cantidad_cluster, silhouette_valores)\n",
    "plt.title('Gráfico Índice de Silhouette por Clusters')\n",
    "plt.xlabel('Cantidad de Clústers')\n",
    "plt.ylabel('Índice de Silhouette')\n",
    "plt.annotate(f'{maximo:.4f}', xy=(35, maximo), xytext=(5, 0.40), fontsize=10,\n",
    "             arrowprops=dict(facecolor='red', arrowstyle= \"->\"))\n",
    "plt.show()\n",
    "\n"
   ]
  },
  {
   "cell_type": "markdown",
   "metadata": {},
   "source": [
    "Dendograma con cantidad de clúster según el mejor valor de índice de Silhouette"
   ]
  },
  {
   "cell_type": "code",
   "execution_count": null,
   "metadata": {},
   "outputs": [],
   "source": [
    "dendrogram(Z, truncate_mode='lastp', p=indice_max)\n",
    "plt.show()"
   ]
  },
  {
   "cell_type": "code",
   "execution_count": null,
   "metadata": {},
   "outputs": [],
   "source": []
  }
 ],
 "metadata": {
  "kernelspec": {
   "display_name": "base",
   "language": "python",
   "name": "python3"
  },
  "language_info": {
   "codemirror_mode": {
    "name": "ipython",
    "version": 3
   },
   "file_extension": ".py",
   "mimetype": "text/x-python",
   "name": "python",
   "nbconvert_exporter": "python",
   "pygments_lexer": "ipython3",
   "version": "3.11.7"
  }
 },
 "nbformat": 4,
 "nbformat_minor": 2
}

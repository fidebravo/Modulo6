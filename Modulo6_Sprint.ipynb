{
 "cells": [
  {
   "cell_type": "markdown",
   "metadata": {},
   "source": [
    "# Módulo 6 Sprint\n",
    "\n",
    "## Objetivo del proyecto (Competencias del módulo)\n",
    "\n",
    "\n",
    "**Elaborar un modelo predictivo a partir de un set de datos utilizando técnicas de aprendizaje de máquina no supervisado implementados en lenguaje Python para resolver un problema.**\n",
    "\n",
    "## Descripción del ejercicio\n",
    "\n",
    "### Contexto\n",
    "\n",
    "**Parte I:**\n",
    "\n",
    "**1. La principal diferencia entre los métodos supervisados (I) y no supervisados (II) es que:**\n",
    "\n",
    "*a) (I) requieren que el usuario especifique algunos hiperparámetros.*\n",
    "\n",
    "*b) (II) no tienen restricciones y/o supuestos.*\n",
    "\n",
    "*c) (I) usan la variable respuesta para entrenar el modelo.*\n",
    "\n",
    "*d) (II) se aplican a problemas autónomos.*"
   ]
  },
  {
   "cell_type": "markdown",
   "metadata": {},
   "source": [
    "- La principal diferencia entre los métodos supervisados y no supervisados es que los métodos supervisados usan la variable target para entrenar el modelo.  La respuesta correcta es C."
   ]
  },
  {
   "cell_type": "markdown",
   "metadata": {},
   "source": [
    "**2. Considere las siguientes afirmaciones:**\n",
    "\n",
    "*(i) PCA es un método no supervisado.*\n",
    "\n",
    "*(ii) Todos los componentes principales de un PCA son ortogonales entre si.*\n",
    "\n",
    "*(iii) PCA busca las direcciones en las que los datos tienen la mayor varianza.*\n",
    "\n",
    "*(iv) El número máximo de componentes principales es menor o igual al número de variables.*\n",
    "\n",
    "*Elija la opción con el mayor número de ítems correctos:*\n",
    "\n",
    "*a) (i) e (iii).*\n",
    "\n",
    "*b) (ii) e (iii).*\n",
    "\n",
    "*c) (i), (ii) e (iii).*\n",
    "\n",
    "*d) (i), (ii), (iii) e (iv).*"
   ]
  },
  {
   "cell_type": "markdown",
   "metadata": {},
   "source": [
    "- Todas las afirmaciones son correctas así que la respuesta correcta es la respuesta d)"
   ]
  },
  {
   "cell_type": "markdown",
   "metadata": {},
   "source": [
    "**3. Como parte de un análisis de datos se analizaron 11 indicadores económicos y sociales de 96 países. Las variables observadas son:**\n",
    "\n",
    "X1: Tasa anual de crecimiento de la población,\n",
    "\n",
    "X2: Tasa de mortalidad infantil por cada 1000 nacidos vivos,\n",
    "\n",
    "X3: Porcentaje de mujeres en la población activa,\n",
    "\n",
    "X4: PNB en 2005 (en millones de dólares),\n",
    "\n",
    "X5: Producción de electricidad (en millones kW/h),\n",
    "\n",
    "X6: Líneas telefónicas por cada 1000 habitantes,\n",
    "\n",
    "X7: Consumo de agua per capita, \n",
    "\n",
    "X8: Proporción de la superficie del país cubierta por bosques,\n",
    "\n",
    "X9: Proporción de deforestación anual,\n",
    "\n",
    "X10: Consumo de energía per cápita,\n",
    "\n",
    "X11: Emisión de CO2 per cápita.\n",
    "\n",
    "Dada la gran cantidad de variables se aplicó un análisis de componentes principales, utilizando la matriz de correlación, donde los vectores de carga de las dos primeras componentes son:\n",
    "\n",
    "<img src='tablasprint6.jpg'>\n",
    "\n",
    "A partir de la información anterior, se puede concluir que:\n",
    "\n",
    "\n",
    "**a) El porcentaje de variabilidad explicado por las dos primeras componentes es 63.45%.**"
   ]
  },
  {
   "cell_type": "markdown",
   "metadata": {},
   "source": [
    "- No, los datos entregados no corresponden a un porcentaje de la variabilidad, lo que se muestra son los coeficientes de cada elemento por componente principal y lo que explica es como influye cada variable en el resultado de cada componente principal."
   ]
  },
  {
   "cell_type": "markdown",
   "metadata": {},
   "source": [
    "**b) Asumiendo las condiciones necesarias sobre las componentes no reportadas, entonces es posible que las variables X2, X6, X10 y X11 son las que más contribuyen en la primera componente principal.**"
   ]
  },
  {
   "cell_type": "markdown",
   "metadata": {},
   "source": [
    "- Si, se puede observar que son los valores que más influyen en la conformación de la primera componente principal"
   ]
  },
  {
   "cell_type": "markdown",
   "metadata": {},
   "source": [
    "**c) Asumiendo las condiciones necesarias sobre las componentes no reportadas, entonces es posible que las variables X2, X6, X10 y X11 son las que más contribuyen en la segunda componente principal.**"
   ]
  },
  {
   "cell_type": "markdown",
   "metadata": {},
   "source": [
    "- No, las variables indicadas no son las que más contribuyen al segundo componente principal.  Las variables que más peso tienen en la segunda componente principal son: X1, X3, X7, X8"
   ]
  },
  {
   "cell_type": "markdown",
   "metadata": {},
   "source": [
    "**d) No es posible interpretar los resultados anteriores debido a que es un error haber utilizado la matriz de correlación y en su lugar se debería haber utilizado la matriz de covarianzas.**\n",
    "\n",
    "- No, lo que se debió hacer para interpretar los resultados en relación al porcentaje es usar un gráfico que permita ver la influencia de PCA en la varianza explicada acumulada."
   ]
  },
  {
   "cell_type": "markdown",
   "metadata": {},
   "source": [
    "**4. Considere las siguientes observaciones:**\n",
    "\n",
    "<img src='tabla2sprint.jpg'>\n",
    "\n",
    "Sin escalar las variables, describa tres iteraciones del algoritmo K-means para k = 2. Use los centroides C1 = (47.5, 37.5, 21.8) y C2 = (53.2, 22.4, 75.3).\n",
    "\n",
    "**Observación:** El objetivo del ejercicio es saber si comprenden como funcionan internamente el algoritmo, así que no basta con sólo la respuesta en Python u otro lenguaje. Aunque sí se pueden apoyar en algún software para los cálculos de cada paso."
   ]
  },
  {
   "cell_type": "markdown",
   "metadata": {},
   "source": [
    "- Comenzamos creando la matriz que se había propuesto.  Esto será necesario para poder completar el ejercicio.\n",
    "\n",
    "- Seguimos, inicializando el algoritmo asignando el valor de los centroides a sus variables.  Se asignan dos puntos C1 y C2 que serán los centroides iniciales del estimador K-means que fue decretado con un k=2.\n"
   ]
  },
  {
   "cell_type": "code",
   "execution_count": 22,
   "metadata": {},
   "outputs": [],
   "source": [
    "import numpy as np\n",
    "import pandas as pd\n",
    "\n",
    "datos = np.array([[10, 4, 50],\n",
    "                 [8, 99, 31],\n",
    "                 [34, 44, 86],\n",
    "                 [9, 50, 57],\n",
    "                 [46, 77, 75],\n",
    "                 [68, 30, 14],\n",
    "                 [80, 25, 40],\n",
    "                 [50, 35, 60]])\n",
    "                  \n",
    "\n",
    "C1 = np.array([47.5, 37.5, 21.8])\n",
    "C2 = np.array([53.2, 22.4, 75.3])\n",
    "\n"
   ]
  },
  {
   "cell_type": "markdown",
   "metadata": {},
   "source": [
    "- Ya que tenemos la información podemos calcular la distancia de cada punto de la tabla con el centroide más cercano, luego de obtenida la información, el algoritmo recalcula el promedio de todas las distancias de los puntos asignados y el centroide y asigna ese nuevo valor como ubicación para el centroide.\n",
    "\n",
    "- De acuerdo a lo planteado en el enunciado, se solicita 3 iteraciones, lo que implicaría que el proceso se ejecuta 3 veces a partir de los valores entregados para los centroides C1 y C2.\n",
    "\n",
    "- Es objetivo de este algoritmo de clasificación optimizar la distancia entre todos los puntos y el centroide más cercano motivo por el cual esto se realiza hasta que los centroides ya no se mueven (máxima optimización) luego del cálculo de la distancia."
   ]
  },
  {
   "cell_type": "code",
   "execution_count": 23,
   "metadata": {},
   "outputs": [
    {
     "name": "stdout",
     "output_type": "stream",
     "text": [
      " ITERACIÓN Nº 1\n",
      "C1: ................[41.25 51.   35.5 ]\n",
      "C2: ................[35.   40.   67.75]\n",
      " ITERACIÓN Nº 2\n",
      "C1: ................[52.         51.33333333 28.33333333]\n",
      "C2: ................[29.8 42.  65.6]\n",
      " ITERACIÓN Nº 3\n",
      "C1: ................[52.         51.33333333 28.33333333]\n",
      "C2: ................[29.8 42.  65.6]\n"
     ]
    }
   ],
   "source": [
    "for i in range(3):\n",
    "    distancias_C1 = np.linalg.norm(datos - C1, axis=1)\n",
    "    distancias_C2 = np.linalg.norm(datos - C2, axis=1)\n",
    "\n",
    "    asignaciones = np.where(distancias_C1 < distancias_C2, 'C1', 'C2')\n",
    "\n",
    "\n",
    "    nuevos_C1 = np.mean(datos[asignaciones == 'C1'], axis=0)\n",
    "    nuevos_C2 = np.mean(datos[asignaciones == 'C2'], axis=0)\n",
    "\n",
    "    C1 = nuevos_C1\n",
    "    C2 = nuevos_C2\n",
    "\n",
    "    print(F' ITERACIÓN Nº {i+1}')\n",
    "    print(f'C1: '.ljust(20, '.') + f'{nuevos_C1}')\n",
    "    print(f'C2: '.ljust(20, '.') + f'{nuevos_C2}')\n",
    "\n",
    "\n"
   ]
  },
  {
   "cell_type": "markdown",
   "metadata": {},
   "source": [
    "En el caso del ejercicio anterior, luego de 2 iteraciones los centroides no varían su ubicación, motivo por el cual se entiende que alcanzo su óptimo."
   ]
  },
  {
   "cell_type": "markdown",
   "metadata": {},
   "source": [
    "**5. Enuncie al menos tres diferencias entre el análisis factorial y el método de componentes principales.**"
   ]
  },
  {
   "cell_type": "markdown",
   "metadata": {},
   "source": [
    "- El *análisis factorial* es un método en el que mediante factores subyacentes buscamos interpretar una serie de variables que pudieran estar relacionadas entre sí.  Un ejemplo puede ser en las encuestas y estudios sociales donde mediante ciertas características de los encuestados donde variables como edad, estudios, profesion, domicilio, bienes propios pueden determinar un grupo socioeconómico y con eso reducir las variables con las que realizamos el análisis, también se puede citar como ejemplo las clasificaciones que se hacen en el área de análisis sicológico para poder medir aspectos latentes como personalidad, actitudes o habilidades.\n",
    "\n",
    "- El método de *componentes principales* es un método que busca resumir la variabilidad de los datos mediante la identificación de las direcciones (componentes principales) en que los datos tienen la mayor varianza, en ese sentido no genera interpretaciones que den origen a factores subyacentes, a diferencia del *análisis factorial*, todo lo contrario busca la eliminación de cierta cantidad de data.  PCA se basa en un valor que explica la varianza por cada componente principal como argumento para la reduccion de dimensionalidad, el *análisis factorial* en cambio busca identificar relaciones subyacentes entre un grupo de variables observadas y explicar estas relaciones mediante un numero menor de factores no observados.  El *análisis factorial* por su naturaleza es más usado en las investigaciones sicométricas y ciencias sociales por la ventaja que significa el uso de factores, el PCA en cambio es un método más usado para análisis exploratorio, reduccion de dimensionalidad y reconocimiento de patrones en los datos."
   ]
  },
  {
   "cell_type": "markdown",
   "metadata": {},
   "source": [
    "**6. ¿Qué significa que el método de clusterización sea jerárquico?**"
   ]
  },
  {
   "cell_type": "markdown",
   "metadata": {},
   "source": [
    "- Un método de clusterización jerárquico es aquel que organiza los datos en una estructura de árbol o dendograma, en la que los datos más parecidos se agrupan juntos en niveles superiores de la jerarquía y a medida que se baja en los niveles podemos ver mayor diferenciación de los datos.  En un esquema jerárquico, cada nodo representa un clúster y los enlaces que los conectan representan la similaridad o distancia entre nodos.  Si realizamos la clusterización desde lo más individual hasta lo más general decimos que tenemos un modelo jerárquico agflomerativo, en cambio si comenzamos desde un gran clúster y vamos dividiendo en clústeres más pequeños diremos que es jerárquico divisivo."
   ]
  },
  {
   "cell_type": "markdown",
   "metadata": {},
   "source": [
    "## Parte II\n",
    "\n",
    "\n",
    "Suponga que tenemos una empresa, cuya área de marketing, desea generar una clusterización para poder tener mayor éxito con sus campañas. Para esto nos entregó una base de datos (llamada evaluación_mkt_campaign.csv) que contiene los siguientes campos:\n",
    "\n",
    "1. ID: Identificador único de cliente\n",
    "2. Age: Edad del cliente\n",
    "3. Seniority: Días desde el enrolamiento del cliente\n",
    "4. Children: Número hijos\n",
    "5. Ingreso: Ingreso anual del cliente\n",
    "6. Recency: Días desde la última compra del cliente\n",
    "7. MntWines: Gasto en vino en los últimos 2 años\n",
    "8. MntFruits: Gasto en fruta en los últimos 2 años\n",
    "9. MntMeatProducts: Gasto en carne en los últimos 2 años\n",
    "10. MntFishProducts: Gasto en pescado en los últimos 2 años\n",
    "11. MntSweetProducts: Gasto en dulces en los últimos 2 años\n",
    "12. MntGoldProds: Gasto en oro en los últimos 2 años\n",
    "13. NumDealsPurchases: Número de compras realizada bajo descuento\n",
    "14. NumWebPurchases: Número de compras realizadas por la web\n",
    "15. NumCatalogPurchases: Número de compras realizadas por catálogo\n",
    "16. NumStorePurchases: Número de compras realizadas en la tienda\n",
    "17. NumWebVisitsMonth: Número de visitas a la página web\n",
    "\n",
    "**En base a estos datos, realice lo siguiente:**\n",
    "\n",
    "**Búsqueda de Anomalías: Usando las columnas de comportamiento de compra, encuentre registros anómalos correspondientes al 5% de la muestra, y descártelos.**\n",
    "\n",
    "**Feature Extraction:**\n",
    "\n",
    "**Usando los datos filtrados reduzca el número de variables. Busque una representación que le permita explicar un 90% de la varianza original de los datos.**"
   ]
  },
  {
   "cell_type": "code",
   "execution_count": 14,
   "metadata": {},
   "outputs": [
    {
     "data": {
      "text/html": [
       "<div>\n",
       "<style scoped>\n",
       "    .dataframe tbody tr th:only-of-type {\n",
       "        vertical-align: middle;\n",
       "    }\n",
       "\n",
       "    .dataframe tbody tr th {\n",
       "        vertical-align: top;\n",
       "    }\n",
       "\n",
       "    .dataframe thead th {\n",
       "        text-align: right;\n",
       "    }\n",
       "</style>\n",
       "<table border=\"1\" class=\"dataframe\">\n",
       "  <thead>\n",
       "    <tr style=\"text-align: right;\">\n",
       "      <th></th>\n",
       "      <th>ID</th>\n",
       "      <th>Income</th>\n",
       "      <th>Recency</th>\n",
       "      <th>MntWines</th>\n",
       "      <th>MntMeatProducts</th>\n",
       "      <th>MntFishProducts</th>\n",
       "      <th>MntSweetProducts</th>\n",
       "      <th>MntGoldProds</th>\n",
       "      <th>NumDealsPurchases</th>\n",
       "      <th>NumWebPurchases</th>\n",
       "      <th>NumCatalogPurchases</th>\n",
       "      <th>NumStorePurchases</th>\n",
       "      <th>NumWebVisitsMonth</th>\n",
       "      <th>Age</th>\n",
       "      <th>Seniority</th>\n",
       "      <th>Children</th>\n",
       "    </tr>\n",
       "  </thead>\n",
       "  <tbody>\n",
       "    <tr>\n",
       "      <th>0</th>\n",
       "      <td>5524</td>\n",
       "      <td>58138.0</td>\n",
       "      <td>58</td>\n",
       "      <td>635</td>\n",
       "      <td>546</td>\n",
       "      <td>172</td>\n",
       "      <td>88</td>\n",
       "      <td>88</td>\n",
       "      <td>3</td>\n",
       "      <td>8</td>\n",
       "      <td>10</td>\n",
       "      <td>4</td>\n",
       "      <td>7</td>\n",
       "      <td>58</td>\n",
       "      <td>997</td>\n",
       "      <td>0</td>\n",
       "    </tr>\n",
       "    <tr>\n",
       "      <th>1</th>\n",
       "      <td>2174</td>\n",
       "      <td>46344.0</td>\n",
       "      <td>38</td>\n",
       "      <td>11</td>\n",
       "      <td>6</td>\n",
       "      <td>2</td>\n",
       "      <td>1</td>\n",
       "      <td>6</td>\n",
       "      <td>2</td>\n",
       "      <td>1</td>\n",
       "      <td>1</td>\n",
       "      <td>2</td>\n",
       "      <td>5</td>\n",
       "      <td>61</td>\n",
       "      <td>151</td>\n",
       "      <td>2</td>\n",
       "    </tr>\n",
       "    <tr>\n",
       "      <th>2</th>\n",
       "      <td>4141</td>\n",
       "      <td>71613.0</td>\n",
       "      <td>26</td>\n",
       "      <td>426</td>\n",
       "      <td>127</td>\n",
       "      <td>111</td>\n",
       "      <td>21</td>\n",
       "      <td>42</td>\n",
       "      <td>1</td>\n",
       "      <td>8</td>\n",
       "      <td>2</td>\n",
       "      <td>10</td>\n",
       "      <td>4</td>\n",
       "      <td>50</td>\n",
       "      <td>498</td>\n",
       "      <td>0</td>\n",
       "    </tr>\n",
       "    <tr>\n",
       "      <th>3</th>\n",
       "      <td>6182</td>\n",
       "      <td>26646.0</td>\n",
       "      <td>26</td>\n",
       "      <td>11</td>\n",
       "      <td>20</td>\n",
       "      <td>10</td>\n",
       "      <td>3</td>\n",
       "      <td>5</td>\n",
       "      <td>2</td>\n",
       "      <td>2</td>\n",
       "      <td>0</td>\n",
       "      <td>4</td>\n",
       "      <td>6</td>\n",
       "      <td>31</td>\n",
       "      <td>91</td>\n",
       "      <td>1</td>\n",
       "    </tr>\n",
       "    <tr>\n",
       "      <th>4</th>\n",
       "      <td>5324</td>\n",
       "      <td>58293.0</td>\n",
       "      <td>94</td>\n",
       "      <td>173</td>\n",
       "      <td>118</td>\n",
       "      <td>46</td>\n",
       "      <td>27</td>\n",
       "      <td>15</td>\n",
       "      <td>5</td>\n",
       "      <td>5</td>\n",
       "      <td>3</td>\n",
       "      <td>6</td>\n",
       "      <td>5</td>\n",
       "      <td>34</td>\n",
       "      <td>347</td>\n",
       "      <td>1</td>\n",
       "    </tr>\n",
       "  </tbody>\n",
       "</table>\n",
       "</div>"
      ],
      "text/plain": [
       "     ID   Income  Recency  MntWines  MntMeatProducts  MntFishProducts  \\\n",
       "0  5524  58138.0       58       635              546              172   \n",
       "1  2174  46344.0       38        11                6                2   \n",
       "2  4141  71613.0       26       426              127              111   \n",
       "3  6182  26646.0       26        11               20               10   \n",
       "4  5324  58293.0       94       173              118               46   \n",
       "\n",
       "   MntSweetProducts  MntGoldProds  NumDealsPurchases  NumWebPurchases  \\\n",
       "0                88            88                  3                8   \n",
       "1                 1             6                  2                1   \n",
       "2                21            42                  1                8   \n",
       "3                 3             5                  2                2   \n",
       "4                27            15                  5                5   \n",
       "\n",
       "   NumCatalogPurchases  NumStorePurchases  NumWebVisitsMonth  Age  Seniority  \\\n",
       "0                   10                  4                  7   58        997   \n",
       "1                    1                  2                  5   61        151   \n",
       "2                    2                 10                  4   50        498   \n",
       "3                    0                  4                  6   31         91   \n",
       "4                    3                  6                  5   34        347   \n",
       "\n",
       "   Children  \n",
       "0         0  \n",
       "1         2  \n",
       "2         0  \n",
       "3         1  \n",
       "4         1  "
      ]
     },
     "execution_count": 14,
     "metadata": {},
     "output_type": "execute_result"
    }
   ],
   "source": [
    "import pandas as pd\n",
    "import numpy as np\n",
    "\n",
    "sprint6_clientes = pd.read_csv('evaluacion_mkt_campaign.csv')\n",
    "sprint6_clientes.head()"
   ]
  },
  {
   "cell_type": "code",
   "execution_count": 24,
   "metadata": {},
   "outputs": [
    {
     "data": {
      "text/html": [
       "<div>\n",
       "<style scoped>\n",
       "    .dataframe tbody tr th:only-of-type {\n",
       "        vertical-align: middle;\n",
       "    }\n",
       "\n",
       "    .dataframe tbody tr th {\n",
       "        vertical-align: top;\n",
       "    }\n",
       "\n",
       "    .dataframe thead th {\n",
       "        text-align: right;\n",
       "    }\n",
       "</style>\n",
       "<table border=\"1\" class=\"dataframe\">\n",
       "  <thead>\n",
       "    <tr style=\"text-align: right;\">\n",
       "      <th></th>\n",
       "      <th>NumDealsPurchases</th>\n",
       "      <th>NumWebPurchases</th>\n",
       "      <th>NumCatalogPurchases</th>\n",
       "      <th>NumStorePurchases</th>\n",
       "    </tr>\n",
       "  </thead>\n",
       "  <tbody>\n",
       "    <tr>\n",
       "      <th>count</th>\n",
       "      <td>2216.000000</td>\n",
       "      <td>2216.000000</td>\n",
       "      <td>2216.000000</td>\n",
       "      <td>2216.000000</td>\n",
       "    </tr>\n",
       "    <tr>\n",
       "      <th>mean</th>\n",
       "      <td>2.323556</td>\n",
       "      <td>4.085289</td>\n",
       "      <td>2.671029</td>\n",
       "      <td>5.800993</td>\n",
       "    </tr>\n",
       "    <tr>\n",
       "      <th>std</th>\n",
       "      <td>1.923716</td>\n",
       "      <td>2.740951</td>\n",
       "      <td>2.926734</td>\n",
       "      <td>3.250785</td>\n",
       "    </tr>\n",
       "    <tr>\n",
       "      <th>min</th>\n",
       "      <td>0.000000</td>\n",
       "      <td>0.000000</td>\n",
       "      <td>0.000000</td>\n",
       "      <td>0.000000</td>\n",
       "    </tr>\n",
       "    <tr>\n",
       "      <th>25%</th>\n",
       "      <td>1.000000</td>\n",
       "      <td>2.000000</td>\n",
       "      <td>0.000000</td>\n",
       "      <td>3.000000</td>\n",
       "    </tr>\n",
       "    <tr>\n",
       "      <th>50%</th>\n",
       "      <td>2.000000</td>\n",
       "      <td>4.000000</td>\n",
       "      <td>2.000000</td>\n",
       "      <td>5.000000</td>\n",
       "    </tr>\n",
       "    <tr>\n",
       "      <th>75%</th>\n",
       "      <td>3.000000</td>\n",
       "      <td>6.000000</td>\n",
       "      <td>4.000000</td>\n",
       "      <td>8.000000</td>\n",
       "    </tr>\n",
       "    <tr>\n",
       "      <th>max</th>\n",
       "      <td>15.000000</td>\n",
       "      <td>27.000000</td>\n",
       "      <td>28.000000</td>\n",
       "      <td>13.000000</td>\n",
       "    </tr>\n",
       "  </tbody>\n",
       "</table>\n",
       "</div>"
      ],
      "text/plain": [
       "       NumDealsPurchases  NumWebPurchases  NumCatalogPurchases  \\\n",
       "count        2216.000000      2216.000000          2216.000000   \n",
       "mean            2.323556         4.085289             2.671029   \n",
       "std             1.923716         2.740951             2.926734   \n",
       "min             0.000000         0.000000             0.000000   \n",
       "25%             1.000000         2.000000             0.000000   \n",
       "50%             2.000000         4.000000             2.000000   \n",
       "75%             3.000000         6.000000             4.000000   \n",
       "max            15.000000        27.000000            28.000000   \n",
       "\n",
       "       NumStorePurchases  \n",
       "count        2216.000000  \n",
       "mean            5.800993  \n",
       "std             3.250785  \n",
       "min             0.000000  \n",
       "25%             3.000000  \n",
       "50%             5.000000  \n",
       "75%             8.000000  \n",
       "max            13.000000  "
      ]
     },
     "execution_count": 24,
     "metadata": {},
     "output_type": "execute_result"
    }
   ],
   "source": [
    "compras = ['NumDealsPurchases', 'NumWebPurchases', 'NumCatalogPurchases', 'NumStorePurchases']\n",
    "\n",
    "df_compras = sprint6_clientes[compras]\n",
    "df_compras.describe()\n"
   ]
  },
  {
   "cell_type": "code",
   "execution_count": null,
   "metadata": {},
   "outputs": [],
   "source": []
  }
 ],
 "metadata": {
  "kernelspec": {
   "display_name": "base",
   "language": "python",
   "name": "python3"
  },
  "language_info": {
   "codemirror_mode": {
    "name": "ipython",
    "version": 3
   },
   "file_extension": ".py",
   "mimetype": "text/x-python",
   "name": "python",
   "nbconvert_exporter": "python",
   "pygments_lexer": "ipython3",
   "version": "3.11.7"
  }
 },
 "nbformat": 4,
 "nbformat_minor": 2
}

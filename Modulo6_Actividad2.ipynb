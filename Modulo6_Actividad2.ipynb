{
 "cells": [
  {
   "cell_type": "markdown",
   "metadata": {},
   "source": [
    "# Módulo 6 Actividad 2\n",
    "\n",
    "## Intención del aprendizaje esperado:\n",
    "\n",
    "2. Elaborar un modelo predictivo aplicando el algoritmo K-Means utilizando lenguaje Python para resolver un problema de clusterización.\n",
    "\n",
    "\n",
    "## Ejercicios Planteados\n",
    "\n",
    "\n",
    "*Clasificación de Clientes según su personalidad.*\n",
    "\n",
    "**Luego de haber cerrado su cápsula de aprendizaje de clasificación, se le ha determinado que averigüe los intereses que pueden tener los clientes de la empresa KEPPLER, esto es necesario, para que se entregue la información al departamento de marketing y puedan realizar campañas fidelizada a sus clientes.**\n",
    "**En el archivo clientes.cvs encontrará el registro de cada uno de ellos, además el archivo contiene 9 categorías -actividades laborales- que son:**\n",
    "\n",
    "● Actor/actriz\n",
    "\n",
    "● Cantante\n",
    "\n",
    "● Modelo\n",
    "\n",
    "● Tv, series\n",
    "\n",
    "● Radio\n",
    "\n",
    "● Tecnología\n",
    "\n",
    "● Deportes\n",
    "\n",
    "● Política\n",
    "\n",
    "● Escritor"
   ]
  },
  {
   "cell_type": "markdown",
   "metadata": {},
   "source": [
    "**1. Realice un resumen estadístico de sus datos.**"
   ]
  },
  {
   "cell_type": "markdown",
   "metadata": {},
   "source": [
    "usuario (el nombre en Twitter)\n",
    "\n",
    "“op” = Openness to experience – grado de apertura mental a nuevas experiencias, curiosidad, arte\n",
    "\n",
    "“co” =Conscientiousness – grado de orden, prolijidad, organización\n",
    "\n",
    "“ex” = Extraversion – grado de timidez, solitario o participación ante el grupo social\n",
    "\n",
    "“ag” = Agreeableness – grado de empatía con los demás, temperamento\n",
    "\n",
    "“ne” = Neuroticism, – grado de neuroticismo, nervioso, irritabilidad, seguridad en sí mismo.\n",
    "\n",
    "Wordcount – Cantidad promedio de palabras usadas en sus tweets\n",
    "\n",
    "Categoria – Actividad laboral del usuario (actor, cantante, etc.)"
   ]
  },
  {
   "cell_type": "code",
   "execution_count": null,
   "metadata": {},
   "outputs": [],
   "source": [
    "import pandas as pd\n",
    "import matplotlib.pyplot as plt\n",
    "import seaborn as sns\n",
    "\n",
    "from sklearn.cluster import KMeans\n",
    "from sklearn.metrics import pairwise_distances_argmin_min\n",
    " \n",
    "%matplotlib inline\n",
    "from mpl_toolkits.mplot3d import Axes3D\n",
    "plt.rcParams['figure.figsize'] = (16, 9)\n",
    "plt.style.use('ggplot')\n",
    "\n",
    "import warnings\n",
    "warnings.filterwarnings(\"ignore\")\n",
    "\n",
    "clientes = pd.read_csv('clientes.csv')\n",
    "\n",
    "print(clientes.size)\n",
    "print('\\n' + '=' * 80)\n",
    "clientes.info()\n",
    "print('\\n' + '=' * 80)\n",
    "print(clientes.describe())\n",
    "print('\\n' + '=' * 80)\n",
    "print(clientes['categoria'].value_counts())\n",
    "\n",
    "\n"
   ]
  },
  {
   "cell_type": "markdown",
   "metadata": {},
   "source": [
    "**2. Entregue gráficos que acompañen los hallazgos encontrados en el punto 1.**"
   ]
  },
  {
   "cell_type": "code",
   "execution_count": null,
   "metadata": {},
   "outputs": [],
   "source": [
    "clientes.hist()\n",
    "plt.show()\n"
   ]
  },
  {
   "cell_type": "markdown",
   "metadata": {},
   "source": [
    "EL análisis exploratorio no nos permite obtener ninguna información que nos dé indicios de algún patrón de comportamiento.  Las métricas de las variables son desbalanceadas por lo que se supone que no están estandarizadas pero tampoco se puede asegurar.  Vemos en los gráficos que la distribucuón pareciera no marcar tendencia segura en algo tampoco ya que muchos de los gráficos muestran comportamientos diferentes a la distribución normal o desbalanceados."
   ]
  },
  {
   "cell_type": "markdown",
   "metadata": {},
   "source": [
    "**3. Encuentre una relación o grafique las variables: op, ex y ag, además de las categorías.**\n"
   ]
  },
  {
   "cell_type": "code",
   "execution_count": null,
   "metadata": {},
   "outputs": [],
   "source": [
    "variables_estudio = ['op', 'ex', 'ag', 'categoria']\n",
    "clientes[variables_estudio].corr()"
   ]
  },
  {
   "cell_type": "code",
   "execution_count": null,
   "metadata": {},
   "outputs": [],
   "source": [
    "plt.figure(figsize=(10, 6))\n",
    "ax = plt.axes(projection='3d')\n",
    "ax.scatter(clientes['op'], clientes['ex'], clientes['ag'], c=clientes['categoria'], cmap='viridis')\n",
    "ax.set_xlabel('op')\n",
    "ax.set_ylabel('ex')\n",
    "ax.set_zlabel('ag')\n",
    "plt.title('Relación entre op, ex y ag por categoría laboral')\n",
    "plt.show()"
   ]
  },
  {
   "cell_type": "code",
   "execution_count": null,
   "metadata": {},
   "outputs": [],
   "source": [
    "\n",
    "sns.pairplot(clientes.dropna(), hue='categoria',size=4,vars=[\"op\",\"ex\",\"ag\"],kind='scatter', palette='dark')\n",
    "plt.show()"
   ]
  },
  {
   "cell_type": "markdown",
   "metadata": {},
   "source": [
    "Mi interpretación tanto de los datos de la matriz de correlación como los gráficos, histogramas y gráficos de dispersión, no se observa una tendencia clara sobre la distribución de las categorías ni alguna relación observable a simple vista."
   ]
  },
  {
   "cell_type": "markdown",
   "metadata": {},
   "source": [
    "**4. Determine cuántos k o clúster son adecuados para esta consulta.**"
   ]
  },
  {
   "cell_type": "code",
   "execution_count": null,
   "metadata": {},
   "outputs": [],
   "source": [
    "X = clientes[['op', 'ex', 'ag']]\n",
    "y = clientes['categoria']\n",
    "\n",
    "distorsion = []\n",
    "K = range(1, 20)\n",
    "for k in K:\n",
    "    kmeans = KMeans(n_clusters=k)\n",
    "    kmeans.fit(X)\n",
    "    distorsion.append(kmeans.inertia_)\n",
    "\n",
    "diferencias = [distorsion[i] - distorsion[i-1] for i in range(1, len(distorsion))]\n",
    "\n",
    "print(' Diferencias Distorsión por K '.center(70, '=') + '\\n')\n",
    "for i, diff in enumerate(diferencias, start=1):\n",
    "    print(f'Distorsión K{i} = {distorsion[i]:.2f} '.ljust(35, '.') + f' Diferencia {i} K: {diff:.2f}'.rjust(35, '.'))   \n",
    "\n",
    "plt.figure(figsize=(8, 6))\n",
    "plt.plot(K, distorsion, marker='.', color='gray')\n",
    "plt.xlabel('Número de Clústeres (k)')\n",
    "plt.ylabel('Distorsión')\n",
    "plt.title('Distorsión vs. Número de Clústeres')\n",
    "plt.xticks(range(1,21))\n",
    "plt.xlim(0, 20)\n",
    "plt.grid()\n",
    "plt.show()"
   ]
  },
  {
   "cell_type": "markdown",
   "metadata": {},
   "source": [
    "En consideración del reporte de diferencias de Distorsión por K y el gráfico, optaría por un valor de 5 clúster que es el momento en que la optimización que obtiene respecto al valor siguiente de K no es tan significativa en terminos de diferencia.  Me parece que representa mejor que 4 o 6 Ks siendo además un valor que ronda la media de la variable categoría.\n",
    "\n"
   ]
  },
  {
   "cell_type": "markdown",
   "metadata": {},
   "source": [
    "**5. Realice un modelo de kmeans con los cluster definidos en el punto 4.**\n"
   ]
  },
  {
   "cell_type": "code",
   "execution_count": null,
   "metadata": {},
   "outputs": [],
   "source": [
    "numero_clusters = 5\n",
    "\n",
    "modelo_kmeans = KMeans(n_clusters=numero_clusters, random_state=42)\n",
    "modelo_kmeans.fit(X)\n",
    "\n",
    "clientes['cluster'] = modelo_kmeans.labels_\n",
    "centroides_clusters = modelo_kmeans.cluster_centers_\n",
    "\n",
    "numero_clusters_4 = 4\n",
    "\n",
    "modelo_kmeans_k4 = KMeans(n_clusters=numero_clusters_4, random_state=42)\n",
    "modelo_kmeans_k4.fit(X)\n",
    "\n",
    "clientes['4cluster'] = modelo_kmeans_k4.labels_\n",
    "centroides_clusters_4 = modelo_kmeans_k4.cluster_centers_\n"
   ]
  },
  {
   "cell_type": "markdown",
   "metadata": {},
   "source": [
    "**6. Entregue una representación gráfica de los cluster.**"
   ]
  },
  {
   "cell_type": "code",
   "execution_count": null,
   "metadata": {},
   "outputs": [],
   "source": [
    "fig, axs = plt.subplots(1, 2, figsize=(12, 5), subplot_kw={'projection': '3d'})\n",
    "\n",
    "axs[0].scatter(clientes['op'], clientes['ex'], clientes['ag'], c=clientes['cluster'], cmap='tab10', s=20)\n",
    "axs[0].scatter(centroides_clusters[:, 0], centroides_clusters[:, 1], centroides_clusters[:, 2], c='red', marker='*', s=200)\n",
    "axs[0].set_xlabel('op')\n",
    "axs[0].set_ylabel('ex')\n",
    "axs[0].set_zlabel('ag')\n",
    "axs[0].set_title('KMeans 5K Clustering en 3D')\n",
    "\n",
    "\n",
    "axs[1].scatter(clientes['op'], clientes['ex'], clientes['ag'], c=clientes['4cluster'], cmap='tab10', s=20)\n",
    "axs[1].scatter(centroides_clusters_4[:, 0], centroides_clusters_4[:, 1], centroides_clusters_4[:, 2], c='red', marker='*', s=200)\n",
    "axs[1].set_xlabel('op')\n",
    "axs[1].set_ylabel('ex')\n",
    "axs[1].set_zlabel('ag')\n",
    "axs[1].set_title('KMeans 4K Clustering en 3D')\n",
    "\n",
    "plt.show()\n",
    "\n",
    "fig1, axes1 = plt.subplots(1, 2, figsize=(12, 5))\n",
    "\n",
    "axes1[0].scatter(clientes['op'], clientes['ex'], c=clientes['cluster'], cmap='tab10', s=20, alpha=0.6)\n",
    "axes1[0].scatter(centroides_clusters[:, 0], centroides_clusters[:, 1], c='red', marker='*', s=200)\n",
    "axes1[0].set_xlabel('op')\n",
    "axes1[0].set_ylabel('ex')\n",
    "axes1[0].set_title('KMeans 5K Clustering op-ex')\n",
    "\n",
    "axes1[1].scatter(clientes['op'], clientes['ex'], c=clientes['4cluster'], cmap='tab10', s=20, alpha=0.6)\n",
    "axes1[1].scatter(centroides_clusters_4[:, 0], centroides_clusters_4[:, 1], c='red', marker='*', s=200)\n",
    "axes1[1].set_xlabel('op')\n",
    "axes1[1].set_ylabel('ex')\n",
    "axes1[1].set_title('KMeans 4K Clustering en op-ex')\n",
    "\n",
    "plt.show()\n",
    "\n",
    "\n",
    "fig2, axes2 = plt.subplots(1, 2, figsize=(12, 5))\n",
    "\n",
    "axes2[0].scatter(clientes['op'], clientes['ag'], c=clientes['cluster'], cmap='tab10', s=20, alpha=0.6)\n",
    "axes2[0].scatter(centroides_clusters[:, 0], centroides_clusters[:, 2], c='red', marker='*', s=200)\n",
    "axes2[0].set_xlabel('op')\n",
    "axes2[0].set_ylabel('ag')\n",
    "axes2[0].set_title('KMeans 5K Clustering op-ag')\n",
    "\n",
    "axes2[1].scatter(clientes['op'], clientes['ag'], c=clientes['4cluster'], cmap='tab10', s=20, alpha=0.6)\n",
    "axes2[1].scatter(centroides_clusters_4[:, 0], centroides_clusters_4[:, 2], c='red', marker='*', s=200)\n",
    "axes2[1].set_xlabel('op')\n",
    "axes2[1].set_ylabel('ag')\n",
    "axes2[1].set_title('KMeans 4K Clustering en op-ag')\n",
    "\n",
    "plt.show()\n",
    "\n",
    "fig3, axes3 = plt.subplots(1, 2, figsize=(12, 5))\n",
    "\n",
    "axes3[0].scatter(clientes['ex'], clientes['ag'], c=clientes['cluster'], cmap='tab10', s=20, alpha=0.6)\n",
    "axes3[0].scatter(centroides_clusters[:, 1], centroides_clusters[:, 2], c='red', marker='*', s=200)\n",
    "axes3[0].set_xlabel('op')\n",
    "axes2[0].set_ylabel('ag')\n",
    "axes3[0].set_title('KMeans 5K Clustering ex-ag')\n",
    "\n",
    "axes3[1].scatter(clientes['ex'], clientes['ag'], c=clientes['4cluster'], cmap='tab10', s=20, alpha=0.6)\n",
    "axes3[1].scatter(centroides_clusters_4[:, 1], centroides_clusters_4[:, 2], c='red', marker='*', s=200)\n",
    "axes3[1].set_xlabel('ex')\n",
    "axes3[1].set_ylabel('ag')\n",
    "axes3[1].set_title('KMeans 4K Clustering en ex-ag')\n",
    "\n",
    "plt.show()\n",
    "\n"
   ]
  },
  {
   "cell_type": "markdown",
   "metadata": {},
   "source": [
    "**7. A qué conclusión llega y cuál es su recomendación como experto.**"
   ]
  },
  {
   "cell_type": "markdown",
   "metadata": {},
   "source": [
    "Probado el modelo con 4 y 5 K para poder contrastar, se llega a la conclusión que las dos cantidades de cluster permiten separaciones útiles para el análisis.  Desde el punto de vista gráfico, los clúster muestran mayor distancia intercluster en el modelo de 4 K motivo por lo cual yo me inclinaría por esta cantidad de clúster.  Recordemos que K Means es un algoritmo para clasificación que actúa iterando el promedio de las distancias respecto a una cantidad de centroides que estimamos previamente, esto agrupa los eventos dependiendo si cumplen con ciertas característica y los etiqueta con un clúster.\n",
    "\n",
    "Desde mi perspectiva como experto, digo que en base a estos datos y clasificaciones que nos da el modelo podemos realizar diverso tipo de observaciones que quizás puedan entregar información relevante a una empresa de marketing, por ejemplo.\n",
    "\n",
    "Podríamos generar una lista de personas por clúster y estudiar alguna relación que hayamos pasado por alto en el pre-análisis, podríamos identificar la cantidad de categorías por clúster y su valor, etc.\n"
   ]
  },
  {
   "cell_type": "code",
   "execution_count": null,
   "metadata": {},
   "outputs": [],
   "source": [
    "usuario_por_cluster = ['usuario', 'categoria', '4cluster']\n",
    "clientes_ejemplo = clientes[usuario_por_cluster]\n",
    "\n",
    "cluster_0 = clientes_ejemplo[clientes_ejemplo['4cluster'] == 0]\n",
    "cluster_0\n",
    "\n"
   ]
  },
  {
   "cell_type": "code",
   "execution_count": null,
   "metadata": {},
   "outputs": [],
   "source": [
    "fig = plt.figure(figsize=(5, 4))\n",
    "\n",
    "sns.histplot(data=cluster_0, x='categoria')\n",
    "\n",
    "plt.title('Distribución de categorías en cluster  0', fontdict={'fontweight':'bold'}, pad=10)\n",
    "plt.ylabel('Frecuencia')\n",
    "\n",
    "plt.show()"
   ]
  },
  {
   "cell_type": "code",
   "execution_count": null,
   "metadata": {},
   "outputs": [],
   "source": []
  }
 ],
 "metadata": {
  "kernelspec": {
   "display_name": "base",
   "language": "python",
   "name": "python3"
  },
  "language_info": {
   "codemirror_mode": {
    "name": "ipython",
    "version": 3
   },
   "file_extension": ".py",
   "mimetype": "text/x-python",
   "name": "python",
   "nbconvert_exporter": "python",
   "pygments_lexer": "ipython3",
   "version": "3.11.7"
  }
 },
 "nbformat": 4,
 "nbformat_minor": 2
}

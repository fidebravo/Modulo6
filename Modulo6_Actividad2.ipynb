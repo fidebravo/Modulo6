{
 "cells": [
  {
   "cell_type": "markdown",
   "metadata": {},
   "source": [
    "# Módulo 6 Actividad 2\n",
    "\n",
    "## Intención del aprendizaje esperado:\n",
    "\n",
    "2. Elaborar un modelo predictivo aplicando el algoritmo K-Means utilizando lenguaje Python para resolver un problema de clusterización.\n",
    "\n",
    "\n",
    "## Ejercicios Planteados\n",
    "\n",
    "\n",
    "*Clasificación de Clientes según su personalidad.*\n",
    "\n",
    "**Luego de haber cerrado su cápsula de aprendizaje de clasificación, se le ha determinado que averigüe los intereses que pueden tener los clientes de la empresa KEPPLER, esto es necesario, para que se entregue la información al departamento de marketing y puedan realizar campañas fidelizada a sus clientes.**\n",
    "**En el archivo clientes.cvs encontrará el registro de cada uno de ellos, además el archivo contiene 9 categorías -actividades laborales- que son:**\n",
    "\n",
    "● Actor/actriz\n",
    "\n",
    "● Cantante\n",
    "\n",
    "● Modelo\n",
    "\n",
    "● Tv, series\n",
    "\n",
    "● Radio\n",
    "\n",
    "● Tecnología\n",
    "\n",
    "● Deportes\n",
    "\n",
    "● Política\n",
    "\n",
    "● Escritor"
   ]
  },
  {
   "cell_type": "markdown",
   "metadata": {},
   "source": [
    "**1. Realice un resumen estadístico de sus datos.**"
   ]
  },
  {
   "cell_type": "markdown",
   "metadata": {},
   "source": [
    "usuario (el nombre en Twitter)\n",
    "\n",
    "“op” = Openness to experience – grado de apertura mental a nuevas experiencias, curiosidad, arte\n",
    "\n",
    "“co” =Conscientiousness – grado de orden, prolijidad, organización\n",
    "\n",
    "“ex” = Extraversion – grado de timidez, solitario o participación ante el grupo social\n",
    "\n",
    "“ag” = Agreeableness – grado de empatía con los demás, temperamento\n",
    "\n",
    "“ne” = Neuroticism, – grado de neuroticismo, nervioso, irritabilidad, seguridad en sí mismo.\n",
    "\n",
    "Wordcount – Cantidad promedio de palabras usadas en sus tweets\n",
    "\n",
    "Categoria – Actividad laboral del usuario (actor, cantante, etc.)"
   ]
  },
  {
   "cell_type": "code",
   "execution_count": 17,
   "metadata": {},
   "outputs": [
    {
     "name": "stdout",
     "output_type": "stream",
     "text": [
      "1120\n",
      "\n",
      "================================================================================\n",
      "<class 'pandas.core.frame.DataFrame'>\n",
      "RangeIndex: 140 entries, 0 to 139\n",
      "Data columns (total 8 columns):\n",
      " #   Column     Non-Null Count  Dtype  \n",
      "---  ------     --------------  -----  \n",
      " 0   usuario    140 non-null    object \n",
      " 1   op         140 non-null    float64\n",
      " 2   co         140 non-null    float64\n",
      " 3   ex         140 non-null    float64\n",
      " 4   ag         140 non-null    float64\n",
      " 5   ne         140 non-null    float64\n",
      " 6   wordcount  140 non-null    float64\n",
      " 7   categoria  140 non-null    int64  \n",
      "dtypes: float64(6), int64(1), object(1)\n",
      "memory usage: 8.9+ KB\n",
      "\n",
      "================================================================================\n",
      "               op          co          ex          ag          ne   wordcount  \\\n",
      "count  140.000000  140.000000  140.000000  140.000000  140.000000  140.000000   \n",
      "mean    44.414591   22.977135   40.764428   22.918528    8.000098   98.715484   \n",
      "std      8.425723    5.816851    7.185246    7.657122    3.039248   44.714071   \n",
      "min     30.020465    7.852756   18.693542    9.305985    1.030213    5.020800   \n",
      "25%     38.206484   19.740299   36.095722   17.050993    6.086144   66.218475   \n",
      "50%     44.507091   22.466718   41.457492   21.384554    7.839722   94.711400   \n",
      "75%     49.365923   26.091606   45.197769   28.678866    9.758189  119.707925   \n",
      "max     71.696129   49.637863   59.824844   40.583162   23.978462  217.183200   \n",
      "\n",
      "        categoria  \n",
      "count  140.000000  \n",
      "mean     4.050000  \n",
      "std      2.658839  \n",
      "min      1.000000  \n",
      "25%      2.000000  \n",
      "50%      3.500000  \n",
      "75%      7.000000  \n",
      "max      9.000000  \n",
      "\n",
      "================================================================================\n",
      "categoria\n",
      "2    34\n",
      "1    27\n",
      "4    19\n",
      "7    17\n",
      "8    16\n",
      "3     9\n",
      "6     8\n",
      "9     6\n",
      "5     4\n",
      "Name: count, dtype: int64\n"
     ]
    }
   ],
   "source": [
    "import pandas as pd\n",
    "import matplotlib.pyplot as plt\n",
    "import seaborn as sns\n",
    "\n",
    "clientes = pd.read_csv('clientes.csv')\n",
    "\n",
    "print(clientes.size)\n",
    "print('\\n' + '=' * 80)\n",
    "clientes.info()\n",
    "print('\\n' + '=' * 80)\n",
    "print(clientes.describe())\n",
    "print('\\n' + '=' * 80)\n",
    "print(clientes['categoria'].value_counts())\n",
    "\n",
    "\n"
   ]
  },
  {
   "cell_type": "markdown",
   "metadata": {},
   "source": [
    "**2. Entregue gráficos que acompañen los hallazgos encontrados en el punto 1.**"
   ]
  },
  {
   "cell_type": "code",
   "execution_count": 20,
   "metadata": {},
   "outputs": [
    {
     "data": {
      "image/png": "[encoded data removed]",
      "text/plain": [
       "<Figure size 640x480 with 9 Axes>"
      ]
     },
     "metadata": {},
     "output_type": "display_data"
    }
   ],
   "source": [
    "clientes.hist()\n",
    "plt.show()\n"
   ]
  },
  {
   "cell_type": "markdown",
   "metadata": {},
   "source": [
    "EL análisis exploratorio no nos permite obtener ninguna información que nos dé indicios de algún patrón de comportamiento.  Las métricas de las variables son desbalanceadas por lo que se supone que no están estandarizadas pero tampoco se puede asegurar.  Vemos en los gráficos que la distribucuón pareciera no marcar tendencia segura en algo tampoco ya que muchos de los gráficos muestran comportamientos diferentes a la distribución normal o desbalanceados."
   ]
  },
  {
   "cell_type": "markdown",
   "metadata": {},
   "source": [
    "**3. Encuentre una relación o grafique las variables: op, ex y ag, además de las categorías.**\n"
   ]
  },
  {
   "cell_type": "code",
   "execution_count": null,
   "metadata": {},
   "outputs": [],
   "source": []
  }
 ],
 "metadata": {
  "kernelspec": {
   "display_name": "base",
   "language": "python",
   "name": "python3"
  },
  "language_info": {
   "codemirror_mode": {
    "name": "ipython",
    "version": 3
   },
   "file_extension": ".py",
   "mimetype": "text/x-python",
   "name": "python",
   "nbconvert_exporter": "python",
   "pygments_lexer": "ipython3",
   "version": "3.11.7"
  }
 },
 "nbformat": 4,
 "nbformat_minor": 2
}

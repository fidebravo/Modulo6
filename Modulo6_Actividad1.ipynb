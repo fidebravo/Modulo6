{
 "cells": [
  {
   "cell_type": "markdown",
   "metadata": {},
   "source": [
    "# Módulo 6 Actividad 1"
   ]
  },
  {
   "cell_type": "markdown",
   "metadata": {},
   "source": [
    "## Tema\n",
    "\n",
    "*Análisis no supervisado*\n",
    "\n",
    "## Intención del aprendizaje esperado:\n",
    "\n",
    "*1. Describir los principales conceptos y técnicas asociadas al aprendizaje de máquina no supervisado para resolver un problema.*"
   ]
  },
  {
   "cell_type": "markdown",
   "metadata": {},
   "source": [
    "## Ejercicios Planteados\n",
    "\n",
    "\n",
    "### Pregunta: Cree un resumen o mapa conceptual que relacione los conceptos claves de la clase. Es decir, su trabajo debe considerar los siguientes conceptos:\n",
    "\n",
    "*• Aprendizaje de máquina*\n",
    "\n",
    "\n",
    "*• Modelos no supervisados*\n",
    "\n",
    "\n",
    "*• Data compression*\n",
    "\n",
    "\n",
    "*• Anomalías*\n",
    "\n",
    "\n",
    "*• Segmentación*\n",
    "\n",
    "\n",
    "*• Compresión con pérdida*\n",
    "\n",
    "\n",
    "*• Compresión sin pérdida*"
   ]
  },
  {
   "cell_type": "markdown",
   "metadata": {},
   "source": [
    "El aprendizaje de máquina es un área de la inteligencia artificial que se enfoca en el uso de algoritmos para crear estimadores capaces de aprender a predecir o clasificar nuevas entradas a partir del entrenamiento de datasets.  Existen modelos de apredizaje que no requieren que exista una variable etiquetada (o que se determine a priori una variable target) ya que analizan la data y reconocen patrones para su clasificación o asociación, a estos modelos los llamamos modelos de aprendizaje no Supervisado y resultan ser muy útiles en el análisis exploratorio u otros usos como reconocimiento de comportamiento de compras, pare recomendaciones de tendencias y otros usos científicos como también comerciales.  Estos modelos nos permiten también el reconocimiento de comportamientos fuera de lo esperado o 'Anomalías' muy útil en sectores comerciales y financieros, por ejemplo, al permitir reconocer transacciones que escapan el comportamiento normal y evitar posibles fraudes o estafas.  La segmentación es una técnica muy útil en los procesos de aprendizaje de máquina ya que permite dividir los grupos de datos en segmentos distintos con características similares.\n",
    "\n",
    "En el aprendizaje de máquina, el uso y manipulación de los datos es fundamental por lo que su almacenamiento y transferencia propone desafíos a resolver constantemente, toda vez de que la capacidad para capturar y transferir datos es de crecimiento exponencial, en ese sentido la Data Compression permite la disminución del tamaño de los datos mediante procesos que los comprimen y no generan perdida de datos, esto a través de la reducción de bits mediante el reconocimiento y eliminación de redundancia estadística (Compresion sin Pérdida o lossless), por otra parte existen métodos que eliminan bits no tan importantes o innecesarios."
   ]
  },
  {
   "cell_type": "markdown",
   "metadata": {},
   "source": []
  }
 ],
 "metadata": {
  "kernelspec": {
   "display_name": "base",
   "language": "python",
   "name": "python3"
  },
  "language_info": {
   "codemirror_mode": {
    "name": "ipython",
    "version": 3
   },
   "file_extension": ".py",
   "mimetype": "text/x-python",
   "name": "python",
   "nbconvert_exporter": "python",
   "pygments_lexer": "ipython3",
   "version": "3.11.7"
  }
 },
 "nbformat": 4,
 "nbformat_minor": 2
}
